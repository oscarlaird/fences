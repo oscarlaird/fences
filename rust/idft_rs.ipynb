{
 "cells": [
  {
   "cell_type": "code",
   "execution_count": 30,
   "metadata": {
    "vscode": {
     "languageId": "rust"
    }
   },
   "outputs": [
    {
     "name": "stdout",
     "output_type": "stream",
     "text": [
      "[1.95, 0.0, 2.05, 0.0, 1.0, 0.95, 1.0, 1.05, 0.05, 4.371139e-9, -0.05, -4.371139e-9, 1.0, -0.95, 1.0, -1.05]\n"
     ]
    },
    {
     "data": {
      "text/plain": [
       "()"
      ]
     },
     "execution_count": 30,
     "metadata": {},
     "output_type": "execute_result"
    }
   ],
   "source": [
    "// Inverse Discrete Fourier Transforms in Rust\n",
    "\n",
    "// consider the frequencies (1+0i, 1+0i, 0, 0)\n",
    "// we should get a circle one unit to the right of the origin\n",
    "// 2+0i, 1+1i, 0+0i, 1-1i\n",
    "// :dep rustfft = \"6.0\"\n",
    "extern crate rustfft;\n",
    "use rustfft::{FftPlanner, num_complex::Complex};\n",
    "use std::sync::Arc;\n",
    "\n",
    "fn ifft(freqs: Vec<Complex<f32>>) -> Vec<Complex<f32>> {\n",
    "    // copy the frequences\n",
    "    let mut freqs = freqs.clone();\n",
    "    // create planner and plan an inverse fft\n",
    "    let mut planner = FftPlanner::new();\n",
    "    let ifft = planner.plan_fft_inverse(freqs.len());\n",
    "    // perform inverse fft in place\n",
    "    ifft.process(&mut freqs);\n",
    "    // don't need to normalize\n",
    "    freqs \n",
    "}\n",
    "\n",
    "let example_freqs = vec![\n",
    "    Complex::new(1.0, 0.0),\n",
    "    Complex::new(1.0, 0.0),\n",
    "    Complex::new(0.0, 0.0),\n",
    "    Complex::new(0.0, 0.0),\n",
    "];\n",
    "\n",
    "use std::f32::consts::PI;\n",
    "\n",
    "fn single_freq_tseries(k: i32, c_k: f32, N: i32) -> Vec<Complex<f32>> {\n",
    "    let signal: Vec<Complex<f32>> = (0..N)\n",
    "        .map(|n| {\n",
    "            let t = n as f32 / N as f32; // time corresponding to sample n\n",
    "            Complex::new(0.0, 2.0 * PI * (k as f32) * t).exp() * c_k\n",
    "        })\n",
    "        .collect();\n",
    "\n",
    "    signal\n",
    "}\n",
    "\n",
    "fn create_lines(freqs: Vec<f32>, k: i32, line_length: f32) -> Vec<f32> {\n",
    "    let K = freqs.len() as i32;\n",
    "\n",
    "    // Map frequencies to complex numbers with an imaginary part of 0\n",
    "    let freqs: Vec<Complex<f32>> = freqs.into_iter().map(|c_k| Complex::new(c_k, 0.0)).collect();\n",
    "\n",
    "    // Centers are obtained from the inverse FFT\n",
    "    let centers: Vec<Complex<f32>> = ifft(freqs);\n",
    "\n",
    "    // Get the delta values based on the frequency series\n",
    "    let delta: Vec<Complex<f32>> = single_freq_tseries(k, line_length / 2.0, K);\n",
    "\n",
    "    // Create the lines by calculating the start and end points for each line\n",
    "    let mut lines = Vec::with_capacity(4 * K as usize);\n",
    "\n",
    "    for i in 0..K as usize {\n",
    "        lines.push(centers[i].re - delta[i].re);\n",
    "        lines.push(centers[i].im - delta[i].im);\n",
    "        lines.push(centers[i].re + delta[i].re);\n",
    "        lines.push(centers[i].im + delta[i].im);\n",
    "    }\n",
    "\n",
    "    lines\n",
    "}\n",
    "// single_freq_tseries(1, 1.0, 4)\n",
    "// ifft(example_freqs)\n",
    "let example_freqs = vec![1.0, 1.0, 0.0, 0.0];\n",
    "let lines = create_lines(example_freqs, 1, 0.1);\n",
    "println!(\"{:?}\", lines)"
   ]
  }
 ],
 "metadata": {
  "kernelspec": {
   "display_name": "Rust",
   "language": "rust",
   "name": "rust"
  },
  "language_info": {
   "codemirror_mode": "rust",
   "file_extension": ".rs",
   "mimetype": "text/rust",
   "name": "Rust",
   "pygment_lexer": "rust",
   "version": ""
  }
 },
 "nbformat": 4,
 "nbformat_minor": 2
}
