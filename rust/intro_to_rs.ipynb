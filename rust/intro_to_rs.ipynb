{
 "cells": [
  {
   "cell_type": "code",
   "execution_count": 4,
   "metadata": {},
   "outputs": [
    {
     "name": "stdout",
     "output_type": "stream",
     "text": [
      "Sum: 15\n"
     ]
    }
   ],
   "source": [
    "// A simple Rust code example in a Jupyter notebook\n",
    "\n",
    "fn main() {\n",
    "    let x = 5;\n",
    "    let y = 10;\n",
    "    println!(\"Sum: {}\", x + y);\n",
    "}\n",
    "main();"
   ]
  },
  {
   "cell_type": "code",
   "execution_count": 18,
   "metadata": {},
   "outputs": [
    {
     "name": "stdout",
     "output_type": "stream",
     "text": [
      "20\n",
      "hello\n"
     ]
    }
   ],
   "source": [
    "let mut x = 10;\n",
    "x = 20;\n",
    "// rust enforces immutability to prevent unintended side-effects\n",
    "// i.e. this makes the language more functional\n",
    "// but you get around this with `mut` keyword\n",
    "let y = 5; // look! rust can infer the type of y (i32)\n",
    "println!(\"{}\",x);\n",
    "\n",
    "let z = 1;\n",
    "let z = 2.0;\n",
    "let z = \"hello\";\n",
    "// z = 1;\n",
    "// rust will first complain if you are assigning the wrong type\n",
    "// then it will complain if the variable is not mutable\n",
    "println!(\"{}\",z); // this is allowed because z is shadowed\n",
    "// shadowing creates a new binding for the name,\n",
    "// but the original variable is unaffected\n",
    "// (i.e. any existing references to the variable are not affected)\n",
    "// shadowing is useful for clarity in transformations\n",
    "// e.g. repeatedly parsing/modifying a string without actually modifying it"
   ]
  },
  {
   "cell_type": "code",
   "execution_count": 21,
   "metadata": {},
   "outputs": [
    {
     "name": "stdout",
     "output_type": "stream",
     "text": [
      "n is positive\n",
      "n is positive\n"
     ]
    },
    {
     "data": {
      "text/plain": [
       "()"
      ]
     },
     "execution_count": 21,
     "metadata": {},
     "output_type": "execute_result"
    }
   ],
   "source": [
    "// 3. control flow\n",
    "\n",
    "let n = 1;\n",
    "\n",
    "if (n < 0) {\n",
    "    println!(\"n is negative\");\n",
    "} else if (n > 0) {\n",
    "    println!(\"n is positive\");\n",
    "} else {\n",
    "    println!(\"n is zero\");\n",
    "}\n",
    "\n",
    "// reproduce with match\n",
    "match n{ \n",
    "    0 => println!(\"n is zero\"),\n",
    "    n if n < 0 => println!(\"n is negative\"),\n",
    "    _ => println!(\"n is positive\"),\n",
    "}\n",
    "// match provides exhaustive case handling\n",
    "// which makes your code safer\n"
   ]
  },
  {
   "cell_type": "code",
   "execution_count": 25,
   "metadata": {},
   "outputs": [
    {
     "ename": "Error",
     "evalue": "mismatched types",
     "output_type": "error",
     "traceback": [
      "\u001b[31m[E0308] Error:\u001b[0m mismatched types",
      "   \u001b[38;5;246m╭\u001b[0m\u001b[38;5;246m─\u001b[0m\u001b[38;5;246m[\u001b[0mcommand_25:1:1\u001b[38;5;246m]\u001b[0m",
      "   \u001b[38;5;246m│\u001b[0m",
      " \u001b[38;5;246m5 │\u001b[0m \u001b[38;5;100ma\u001b[0m\u001b[38;5;100md\u001b[0m\u001b[38;5;100md\u001b[0m\u001b[38;5;249m(\u001b[0m\u001b[38;5;54m4\u001b[0m\u001b[38;5;54m.\u001b[0m\u001b[38;5;54m0\u001b[0m\u001b[38;5;249m,\u001b[0m\u001b[38;5;249m7\u001b[0m\u001b[38;5;249m)\u001b[0m",
      " \u001b[38;5;240m  │\u001b[0m \u001b[38;5;100m─\u001b[0m\u001b[38;5;100m┬\u001b[0m\u001b[38;5;100m─\u001b[0m \u001b[38;5;54m─\u001b[0m\u001b[38;5;54m┬\u001b[0m\u001b[38;5;54m─\u001b[0m  ",
      " \u001b[38;5;240m  │\u001b[0m  \u001b[38;5;100m╰\u001b[0m\u001b[38;5;100m─\u001b[0m\u001b[38;5;100m─\u001b[0m\u001b[38;5;100m─\u001b[0m\u001b[38;5;100m─\u001b[0m\u001b[38;5;100m─\u001b[0m\u001b[38;5;100m─\u001b[0m\u001b[38;5;100m─\u001b[0m arguments to this function are incorrect",
      " \u001b[38;5;240m  │\u001b[0m      \u001b[38;5;54m│\u001b[0m   ",
      " \u001b[38;5;240m  │\u001b[0m      \u001b[38;5;54m╰\u001b[0m\u001b[38;5;54m─\u001b[0m\u001b[38;5;54m─\u001b[0m\u001b[38;5;54m─\u001b[0m expected `i32`, found floating-point number",
      "\u001b[38;5;246m───╯\u001b[0m"
     ]
    }
   ],
   "source": [
    "// 4. functions\n",
    "fn add(x: i32, y: i32) -> i32 {\n",
    "    x + y\n",
    "}\n",
    "add(4.0,7)"
   ]
  },
  {
   "cell_type": "code",
   "execution_count": 37,
   "metadata": {},
   "outputs": [
    {
     "name": "stdout",
     "output_type": "stream",
     "text": [
      "hello\n",
      "11\n",
      "hello\n"
     ]
    }
   ],
   "source": [
    "// 5. owning and borrowing\n",
    "fn take_ownership(s: String) {\n",
    "    println!(\"{}\", s);\n",
    "}\n",
    "fn borrow_string(s: &String) {\n",
    "    println!(\"{}\", s);\n",
    "}\n",
    "fn modify_val(n: &mut i32) {\n",
    "    *n += 1;\n",
    "}\n",
    "\n",
    "let mut n = 10;\n",
    "let s = String::from(\"hello\");\n",
    "borrow_string(&s);\n",
    "modify_val(&mut n);\n",
    "println!(\"{}\", n);\n",
    "println!(\"{}\", s); // this will not work because s has been moved"
   ]
  },
  {
   "cell_type": "code",
   "execution_count": 55,
   "metadata": {},
   "outputs": [
    {
     "ename": "Error",
     "evalue": "cannot borrow `r` as immutable because it is also borrowed as mutable",
     "output_type": "error",
     "traceback": [
      "\u001b[31m[E0502] Error:\u001b[0m cannot borrow `r` as immutable because it is also borrowed as mutable",
      "    \u001b[38;5;246m╭\u001b[0m\u001b[38;5;246m─\u001b[0m\u001b[38;5;246m[\u001b[0mcommand_55:1:1\u001b[38;5;246m]\u001b[0m",
      "    \u001b[38;5;246m│\u001b[0m",
      " \u001b[38;5;246m20 │\u001b[0m \u001b[38;5;249m \u001b[0m\u001b[38;5;249m \u001b[0m\u001b[38;5;249m \u001b[0m\u001b[38;5;249m \u001b[0m\u001b[38;5;249ml\u001b[0m\u001b[38;5;249me\u001b[0m\u001b[38;5;249mt\u001b[0m\u001b[38;5;249m \u001b[0m\u001b[38;5;249mr\u001b[0m\u001b[38;5;249m1\u001b[0m\u001b[38;5;249m \u001b[0m\u001b[38;5;249m=\u001b[0m\u001b[38;5;249m \u001b[0m\u001b[38;5;100m&\u001b[0m\u001b[38;5;100mm\u001b[0m\u001b[38;5;100mu\u001b[0m\u001b[38;5;100mt\u001b[0m\u001b[38;5;100m \u001b[0m\u001b[38;5;100mr\u001b[0m\u001b[38;5;249m;\u001b[0m",
      " \u001b[38;5;240m   │\u001b[0m              \u001b[38;5;100m─\u001b[0m\u001b[38;5;100m─\u001b[0m\u001b[38;5;100m─\u001b[0m\u001b[38;5;100m┬\u001b[0m\u001b[38;5;100m─\u001b[0m\u001b[38;5;100m─\u001b[0m  ",
      " \u001b[38;5;240m   │\u001b[0m                 \u001b[38;5;100m╰\u001b[0m\u001b[38;5;100m─\u001b[0m\u001b[38;5;100m─\u001b[0m\u001b[38;5;100m─\u001b[0m\u001b[38;5;100m─\u001b[0m mutable borrow occurs here",
      " \u001b[38;5;246m21 │\u001b[0m \u001b[38;5;249m \u001b[0m\u001b[38;5;249m \u001b[0m\u001b[38;5;249m \u001b[0m\u001b[38;5;249m \u001b[0m\u001b[38;5;249ml\u001b[0m\u001b[38;5;249me\u001b[0m\u001b[38;5;249mt\u001b[0m\u001b[38;5;249m \u001b[0m\u001b[38;5;249mr\u001b[0m\u001b[38;5;249m2\u001b[0m\u001b[38;5;249m \u001b[0m\u001b[38;5;249m=\u001b[0m\u001b[38;5;249m \u001b[0m\u001b[38;5;54m&\u001b[0m\u001b[38;5;54mr\u001b[0m\u001b[38;5;249m;\u001b[0m",
      " \u001b[38;5;240m   │\u001b[0m              \u001b[38;5;54m─\u001b[0m\u001b[38;5;54m┬\u001b[0m  ",
      " \u001b[38;5;240m   │\u001b[0m               \u001b[38;5;54m╰\u001b[0m\u001b[38;5;54m─\u001b[0m\u001b[38;5;54m─\u001b[0m immutable borrow occurs here",
      " \u001b[38;5;246m22 │\u001b[0m \u001b[38;5;249m \u001b[0m\u001b[38;5;249m \u001b[0m\u001b[38;5;249m \u001b[0m\u001b[38;5;249m \u001b[0m\u001b[38;5;249mp\u001b[0m\u001b[38;5;249mr\u001b[0m\u001b[38;5;249mi\u001b[0m\u001b[38;5;249mn\u001b[0m\u001b[38;5;249mt\u001b[0m\u001b[38;5;249ml\u001b[0m\u001b[38;5;249mn\u001b[0m\u001b[38;5;249m!\u001b[0m\u001b[38;5;249m(\u001b[0m\u001b[38;5;249m\"\u001b[0m\u001b[38;5;249m{\u001b[0m\u001b[38;5;249m}\u001b[0m\u001b[38;5;249m\"\u001b[0m\u001b[38;5;249m,\u001b[0m\u001b[38;5;249m \u001b[0m\u001b[38;5;68mr\u001b[0m\u001b[38;5;68m1\u001b[0m\u001b[38;5;249m)\u001b[0m\u001b[38;5;249m;\u001b[0m",
      " \u001b[38;5;240m   │\u001b[0m                    \u001b[38;5;68m─\u001b[0m\u001b[38;5;68m┬\u001b[0m  ",
      " \u001b[38;5;240m   │\u001b[0m                     \u001b[38;5;68m╰\u001b[0m\u001b[38;5;68m─\u001b[0m\u001b[38;5;68m─\u001b[0m mutable borrow later used here",
      "\u001b[38;5;246m────╯\u001b[0m"
     ]
    }
   ],
   "source": [
    "// 6. mutable and immutable refs\n",
    "fn print_immut_str(s: &String) {\n",
    "    println!(\"{}\", s);\n",
    "}\n",
    "let s = String::from(\"hello\");\n",
    "print_immut_str(&s);\n",
    "print_immut_str(&s);\n",
    "fn print_mut_str(s: &mut String) {\n",
    "    s.push_str(\"!\");\n",
    "    println!(\"{}\", s);\n",
    "}\n",
    "let mut r = String::from(\"world\");\n",
    "print_mut_str(&mut r);\n",
    "print_mut_str(&mut r);\n",
    "\n",
    "fn two_refs() {\n",
    "    println!(\"two_refs\");\n",
    "    let mut r = String::from(\"hello\");\n",
    "    print_mut_str(&mut r);\n",
    "    let r1 = &mut r;\n",
    "    let r2 = &r;\n",
    "    println!(\"{}\", r1);\n",
    "    println!(\"{}\", r2);\n",
    "}\n",
    "two_refs();\n",
    "\n",
    "// you can borrow an immutable as many times as you want\n",
    "// but a mutable can only have exactly one owner"
   ]
  },
  {
   "cell_type": "code",
   "execution_count": 66,
   "metadata": {},
   "outputs": [
    {
     "name": "stdout",
     "output_type": "stream",
     "text": [
      "2\n",
      "3\n",
      "4\n",
      "5\n",
      "6\n"
     ]
    }
   ],
   "source": [
    "// 7. slices\n",
    "// slices are references to contiguous sections of data\n",
    "let range = 0..10;\n",
    "fn head(t: &[i32]) ->  () {\n",
    "    // print the first five elements of the slice\n",
    "    for i in 0..5 {\n",
    "        println!(\"{}\", t[i]);\n",
    "    }\n",
    "}\n",
    "fn incr_head(t: &mut [i32]) ->  () {\n",
    "    // increment the first five elements of the slice\n",
    "    for i in 0..5 {\n",
    "        t[i] += 1;\n",
    "    }\n",
    "}\n",
    "\n",
    "let arr = [1,2,3,4,5,6,7,8,9,10];\n",
    "let mut arr = arr;\n",
    "incr_head(&mut arr);\n",
    "head(&arr);"
   ]
  },
  {
   "cell_type": "code",
   "execution_count": 69,
   "metadata": {},
   "outputs": [
    {
     "name": "stdout",
     "output_type": "stream",
     "text": [
      "Bob is 26 years old\n",
      "Alice is 30 years old\n",
      "x: 0, y: 0\n"
     ]
    }
   ],
   "source": [
    "// 8. structs\n",
    "struct Person {\n",
    "    name: String,\n",
    "    age: i32,\n",
    "}\n",
    "\n",
    "fn print_person(p: &Person) {\n",
    "    println!(\"{} is {} years old\", p.name, p.age);\n",
    "}\n",
    "\n",
    "let alice = Person {\n",
    "    name: String::from(\"Alice\"),\n",
    "    age: 30,\n",
    "};\n",
    "\n",
    "let mut bob = Person {\n",
    "    name: String::from(\"Bob\"),\n",
    "    age: 25,\n",
    "};\n",
    "\n",
    "bob.age += 1;\n",
    "\n",
    "print_person(&bob);\n",
    "print_person(&alice);\n",
    "\n",
    "// tuple struct\n",
    "struct Point(i32, i32);\n",
    "let origin = Point(0, 0);\n",
    "let Point(x, y) = origin;\n",
    "println!(\"x: {}, y: {}\", x, y);"
   ]
  },
  {
   "cell_type": "code",
   "execution_count": 71,
   "metadata": {},
   "outputs": [
    {
     "ename": "Error",
     "evalue": "unused variable: `r1`",
     "output_type": "error",
     "traceback": [
      "\u001b[31m[unused_variables] Error:\u001b[0m unused variable: `r1`"
     ]
    },
    {
     "ename": "Error",
     "evalue": "unused variable: `r2`",
     "output_type": "error",
     "traceback": [
      "\u001b[31m[unused_variables] Error:\u001b[0m unused variable: `r2`"
     ]
    },
    {
     "ename": "Error",
     "evalue": "use of moved value: `ip`",
     "output_type": "error",
     "traceback": [
      "\u001b[31m[E0382] Error:\u001b[0m use of moved value: `ip`",
      "    \u001b[38;5;246m╭\u001b[0m\u001b[38;5;246m─\u001b[0m\u001b[38;5;246m[\u001b[0mcommand_71:1:1\u001b[38;5;246m]\u001b[0m",
      "    \u001b[38;5;246m│\u001b[0m",
      " \u001b[38;5;246m21 │\u001b[0m \u001b[38;5;249ml\u001b[0m\u001b[38;5;249me\u001b[0m\u001b[38;5;249mt\u001b[0m\u001b[38;5;249m \u001b[0m\u001b[38;5;68mi\u001b[0m\u001b[38;5;68mp\u001b[0m\u001b[38;5;249m \u001b[0m\u001b[38;5;249m=\u001b[0m\u001b[38;5;249m \u001b[0m\u001b[38;5;249mI\u001b[0m\u001b[38;5;249mp\u001b[0m\u001b[38;5;249mA\u001b[0m\u001b[38;5;249md\u001b[0m\u001b[38;5;249md\u001b[0m\u001b[38;5;249mr\u001b[0m\u001b[38;5;249m:\u001b[0m\u001b[38;5;249m:\u001b[0m\u001b[38;5;249mV\u001b[0m\u001b[38;5;249m4\u001b[0m\u001b[38;5;249m(\u001b[0m\u001b[38;5;249mS\u001b[0m\u001b[38;5;249mt\u001b[0m\u001b[38;5;249mr\u001b[0m\u001b[38;5;249mi\u001b[0m\u001b[38;5;249mn\u001b[0m\u001b[38;5;249mg\u001b[0m\u001b[38;5;249m:\u001b[0m\u001b[38;5;249m:\u001b[0m\u001b[38;5;249mf\u001b[0m\u001b[38;5;249mr\u001b[0m\u001b[38;5;249mo\u001b[0m\u001b[38;5;249mm\u001b[0m\u001b[38;5;249m(\u001b[0m\u001b[38;5;249m\"\u001b[0m\u001b[38;5;249ma\u001b[0m\u001b[38;5;249mm\u001b[0m\u001b[38;5;249ma\u001b[0m\u001b[38;5;249mn\u001b[0m\u001b[38;5;249m\"\u001b[0m\u001b[38;5;249m)\u001b[0m\u001b[38;5;249m)\u001b[0m\u001b[38;5;249m;\u001b[0m",
      " \u001b[38;5;240m   │\u001b[0m     \u001b[38;5;68m─\u001b[0m\u001b[38;5;68m┬\u001b[0m  ",
      " \u001b[38;5;240m   │\u001b[0m      \u001b[38;5;68m╰\u001b[0m\u001b[38;5;68m─\u001b[0m\u001b[38;5;68m─\u001b[0m move occurs because `ip` has type `IpAddr`, which does not implement the `Copy` trait",
      " \u001b[38;5;246m22 │\u001b[0m \u001b[38;5;249mc\u001b[0m\u001b[38;5;249ml\u001b[0m\u001b[38;5;249ma\u001b[0m\u001b[38;5;249ms\u001b[0m\u001b[38;5;249ms\u001b[0m\u001b[38;5;249mi\u001b[0m\u001b[38;5;249mf\u001b[0m\u001b[38;5;249my\u001b[0m\u001b[38;5;249m_\u001b[0m\u001b[38;5;249mi\u001b[0m\u001b[38;5;249mp\u001b[0m\u001b[38;5;249m_\u001b[0m\u001b[38;5;249ma\u001b[0m\u001b[38;5;249md\u001b[0m\u001b[38;5;249md\u001b[0m\u001b[38;5;249mr\u001b[0m\u001b[38;5;249m(\u001b[0m\u001b[38;5;54mi\u001b[0m\u001b[38;5;54mp\u001b[0m\u001b[38;5;249m)\u001b[0m\u001b[38;5;249m;\u001b[0m",
      " \u001b[38;5;240m   │\u001b[0m                  \u001b[38;5;54m─\u001b[0m\u001b[38;5;54m┬\u001b[0m  ",
      " \u001b[38;5;240m   │\u001b[0m                   \u001b[38;5;54m╰\u001b[0m\u001b[38;5;54m─\u001b[0m\u001b[38;5;54m─\u001b[0m value moved here",
      " \u001b[38;5;246m23 │\u001b[0m \u001b[38;5;249mc\u001b[0m\u001b[38;5;249ml\u001b[0m\u001b[38;5;249ma\u001b[0m\u001b[38;5;249ms\u001b[0m\u001b[38;5;249ms\u001b[0m\u001b[38;5;249mi\u001b[0m\u001b[38;5;249mf\u001b[0m\u001b[38;5;249my\u001b[0m\u001b[38;5;249m_\u001b[0m\u001b[38;5;249mi\u001b[0m\u001b[38;5;249mp\u001b[0m\u001b[38;5;249m_\u001b[0m\u001b[38;5;249ma\u001b[0m\u001b[38;5;249md\u001b[0m\u001b[38;5;249md\u001b[0m\u001b[38;5;249mr\u001b[0m\u001b[38;5;249m(\u001b[0m\u001b[38;5;100mi\u001b[0m\u001b[38;5;100mp\u001b[0m\u001b[38;5;249m)\u001b[0m\u001b[38;5;249m;\u001b[0m",
      " \u001b[38;5;240m   │\u001b[0m                  \u001b[38;5;100m─\u001b[0m\u001b[38;5;100m┬\u001b[0m  ",
      " \u001b[38;5;240m   │\u001b[0m                   \u001b[38;5;100m╰\u001b[0m\u001b[38;5;100m─\u001b[0m\u001b[38;5;100m─\u001b[0m value used here after move",
      "\u001b[38;5;246m────╯\u001b[0m"
     ]
    }
   ],
   "source": [
    "// 9. enums and pattern matching\n",
    "enum IpAddr {\n",
    "    V4(String),\n",
    "    V6(String),\n",
    "}\n",
    "\n",
    "fn classify_ip_addr(ip: IpAddr) {\n",
    "    match ip {\n",
    "        IpAddr::V4(addr) => println!(\"IPv4 address: {}\", addr),\n",
    "        IpAddr::V6(addr) => println!(\"IPv6 address: {}\", addr),\n",
    "    }\n",
    "}\n",
    "\n",
    "enum Message {\n",
    "    Quit,\n",
    "    Move { x: i32, y: i32 },\n",
    "    Write(String),\n",
    "    ChangeColor(i32, i32, i32),\n",
    "}\n",
    "\n",
    "let ip = IpAddr::V4(String::from(\"aman\"));\n",
    "classify_ip_addr(ip);\n",
    "\n",
    "let change_color_message = Message::ChangeColor(255, 0, 0);\n",
    "fn repr_message(m: Message) {\n",
    "    match m {\n",
    "        Message::Quit => println!(\"Quit\"),\n",
    "        Message::Move { x, y } => println!(\"Move to ({}, {})\", x, y),\n",
    "        Message::Write(s) => println!(\"Write: {}\", s),\n",
    "        Message::ChangeColor(r, g, b) => println!(\"Change color to ({}, {}, {})\", r, g, b),\n",
    "    }\n",
    "    // this kind of match has no runtime overhead\n",
    "}"
   ]
  },
  {
   "cell_type": "code",
   "execution_count": 74,
   "metadata": {},
   "outputs": [
    {
     "name": "stdout",
     "output_type": "stream",
     "text": [
      "Value: 2\n",
      "Number: 42\n",
      "ParseIntError { kind: InvalidDigit }\n"
     ]
    },
    {
     "data": {
      "text/plain": [
       "()"
      ]
     },
     "execution_count": 74,
     "metadata": {},
     "output_type": "execute_result"
    }
   ],
   "source": [
    "fn get_element(arr: &[i32], idx: usize) -> Option<i32> {\n",
    "    if idx < arr.len() {\n",
    "        Some(arr[idx])\n",
    "    } else {\n",
    "        None\n",
    "    }\n",
    "}\n",
    "fn parse_number(s: &str) -> Result<i32, std::num::ParseIntError> {\n",
    "    s.parse()\n",
    "}\n",
    "\n",
    "fn main() {\n",
    "    let numbers = [1, 2, 3, 4, 5];\n",
    "    match get_element(&numbers, 1) {\n",
    "        Some(val) => println!(\"Value: {}\", val),\n",
    "        None => println!(\"No such element\"),\n",
    "    }\n",
    "    match parse_number(\"42\") {\n",
    "        Ok(n) => println!(\"Number: {}\", n),\n",
    "        Err(e) => println!(\"Error: {}\", e),\n",
    "    }\n",
    "    match parse_number(\"not a number\") {\n",
    "        Ok(val) => println!(\"{}\", val),\n",
    "        Err(e) => {\n",
    "            // print the type of e\n",
    "            println!(\"{:?}\", e);\n",
    "        }\n",
    "    }\n",
    "\n",
    "}\n",
    "main()\n",
    "// unwrap returns the val if its some or ok, but panics if its none or err\n",
    "// expect is the same, but you can specify the panic message\n",
    "// unwrap or can return a default value"
   ]
  }
 ],
 "metadata": {
  "kernelspec": {
   "display_name": "Rust",
   "language": "rust",
   "name": "rust"
  },
  "language_info": {
   "codemirror_mode": "rust",
   "file_extension": ".rs",
   "mimetype": "text/rust",
   "name": "rust",
   "pygment_lexer": "rust",
   "version": ""
  }
 },
 "nbformat": 4,
 "nbformat_minor": 2
}
